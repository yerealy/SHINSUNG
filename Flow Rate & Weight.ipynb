{
  "cells": [
    {
      "cell_type": "code",
      "execution_count": null,
      "metadata": {
        "id": "cDXQ-vvxLW1Q"
      },
      "outputs": [],
      "source": [
        "from google.colab import files\n",
        "import pandas as pd\n",
        "import matplotlib.pyplot as plt\n",
        "\n",
        "# 파일 업로드\n",
        "uploaded = files.upload()\n",
        "\n",
        "# 엑셀 파일 읽기 (업로드된 파일명을 정확하게 입력)\n",
        "df = pd.read_excel('D9g4_data1.xlsx')  # 파일명이 'D9g4_data1.xlsx'라고 가정\n",
        "\n",
        "# 'monitoring_date'를 datetime 형식으로 변환\n",
        "df['monitoring_date'] = pd.to_datetime(df['monitoring_date'])\n",
        "\n",
        "# 무게 변화 (now_weighting)의 차이 계산\n",
        "df['weight_change'] = df['now_weight'].diff()\n",
        "\n",
        "# 유속 계산 (무게 변화 / 15초 간격)\n",
        "df['flow_rate'] = df['weight_change'] / 15  # 15초 간격으로 측정되므로, 15초로 나눔\n",
        "\n",
        "# 두 그래프를 한 화면에 겹쳐서 그리기\n",
        "fig, ax1 = plt.subplots(figsize=(10, 6))\n",
        "\n",
        "# 첫 번째 그래프: 무게 변화\n",
        "ax1.plot(df['monitoring_date'], df['now_weight'], label='Now Weight (kg)', color='green', marker='x')\n",
        "ax1.set_xlabel('Monitoring Date')\n",
        "ax1.set_ylabel('Weight (kg)', color='green')\n",
        "ax1.tick_params(axis='y', labelcolor='green')\n",
        "ax1.set_title('Weight and Flow Rate over Time')\n",
        "\n",
        "# 두 번째 그래프: 유속 변화\n",
        "ax2 = ax1.twinx()  # x축을 공유하는 두 번째 y축 생성\n",
        "ax2.plot(df['monitoring_date'], df['flow_rate'], label='Flow Rate (ml/s)', color='blue', marker='o')\n",
        "ax2.set_ylabel('Flow Rate (ml/s)', color='blue')\n",
        "ax2.tick_params(axis='y', labelcolor='blue')\n",
        "\n",
        "# 그래프 출력\n",
        "fig.tight_layout()  # 레이아웃 자동 조정\n",
        "fig.legend(loc='upper left', bbox_to_anchor=(0.1, 0.9))  # 범례 위치\n",
        "plt.xticks(rotation=45)  # x축 날짜 라벨 회전\n",
        "plt.grid(True)\n",
        "plt.show()\n"
      ]
    },
    {
      "cell_type": "code",
      "execution_count": null,
      "metadata": {
        "id": "V4qLI6GjQHrs"
      },
      "outputs": [],
      "source": []
    }
  ],
  "metadata": {
    "colab": {
      "provenance": []
    },
    "kernelspec": {
      "display_name": "Python 3",
      "name": "python3"
    },
    "language_info": {
      "name": "python"
    }
  },
  "nbformat": 4,
  "nbformat_minor": 0
}
